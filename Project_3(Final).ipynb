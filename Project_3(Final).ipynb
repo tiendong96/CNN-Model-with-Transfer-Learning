{
  "nbformat": 4,
  "nbformat_minor": 0,
  "metadata": {
    "accelerator": "GPU",
    "anaconda-cloud": {},
    "colab": {
      "name": "Project_3 (1).ipynb",
      "provenance": [],
      "collapsed_sections": []
    },
    "kernelspec": {
      "display_name": "Python 3",
      "language": "python",
      "name": "python3"
    },
    "language_info": {
      "codemirror_mode": {
        "name": "ipython",
        "version": 3
      },
      "file_extension": ".py",
      "mimetype": "text/x-python",
      "name": "python",
      "nbconvert_exporter": "python",
      "pygments_lexer": "ipython3",
      "version": "3.7.9"
    }
  },
  "cells": [
    {
      "cell_type": "markdown",
      "metadata": {
        "id": "C-BeOChlfOfY"
      },
      "source": [
        "## Mini-Project 3:  Computer Vision using GPU and Transfer Learning\n",
        "\n",
        "\n",
        "#### CSC 180 Intelligent Systems (Fall 2020)\n",
        "\n",
        "#### Dr. Haiquan Chen, California State University, Sacramento"
      ]
    },
    {
      "cell_type": "code",
      "metadata": {
        "id": "rENMVFFibA3H"
      },
      "source": [
        "# Insert your name, your id, course title, assignment id, and due date here as comment \n",
        "#CSC 180 Section 1 Project 3\n",
        "#Joaquin Lopez StudentID: 219471877\n",
        "#Tien Dong StudentID: 219247250\n",
        "#Amanda Caro StudentID: 216280897\n",
        "#Due October 30, 2020\n",
        "\n"
      ],
      "execution_count": null,
      "outputs": []
    },
    {
      "cell_type": "markdown",
      "metadata": {
        "id": "LlFpkRqpfOfa"
      },
      "source": [
        "\n",
        "## Helpful Functions for Tensorflow (Little Gems)\n",
        "\n",
        "The following functions will be used with TensorFlow to help preprocess the data.  They allow you to build the feature vector for a neural network. \n",
        "\n",
        "* Predictors/Inputs \n",
        "    * Fill any missing inputs with the median for that column.  Use **missing_median**.\n",
        "    * Encode textual/categorical values with **encode_text_dummy**.\n",
        "    * Encode numeric values with **encode_numeric_zscore**.\n",
        "* Output\n",
        "    * Discard rows with missing outputs.\n",
        "    * Encode textual/categorical values with **encode_text_index**.\n",
        "    * Do not encode output numeric values.\n",
        "* Produce final feature vectors (x) and expected output (y) with **to_xy**."
      ]
    },
    {
      "cell_type": "code",
      "metadata": {
        "id": "FOddo2bbfOfb"
      },
      "source": [
        "from collections.abc import Sequence\n",
        "from sklearn import preprocessing\n",
        "import matplotlib.pyplot as plt\n",
        "import tensorflow as tf\n",
        "import numpy as np\n",
        "import pandas as pd\n",
        "import shutil\n",
        "import os\n",
        "\n",
        "\n",
        "# Encode text values to dummy variables(i.e. [1,0,0],[0,1,0],[0,0,1] for red,green,blue)\n",
        "def encode_text_dummy(df, name):\n",
        "    dummies = pd.get_dummies(df[name])\n",
        "    for x in dummies.columns:\n",
        "        dummy_name = \"{}-{}\".format(name, x)\n",
        "        df[dummy_name] = dummies[x]\n",
        "    df.drop(name, axis=1, inplace=True)\n",
        "\n",
        "\n",
        "# Encode text values to indexes(i.e. [1],[2],[3] for red,green,blue).\n",
        "def encode_text_index(df, name):\n",
        "    le = preprocessing.LabelEncoder()\n",
        "    df[name] = le.fit_transform(df[name])\n",
        "    return le.classes_\n",
        "\n",
        "\n",
        "# Encode a numeric column as zscores\n",
        "def encode_numeric_zscore(df, name, mean=None, sd=None):\n",
        "    if mean is None:\n",
        "        mean = df[name].mean()\n",
        "\n",
        "    if sd is None:\n",
        "        sd = df[name].std()\n",
        "\n",
        "    df[name] = (df[name] - mean) / sd\n",
        "\n",
        "\n",
        "# Convert all missing values in the specified column to the median\n",
        "def missing_median(df, name):\n",
        "    med = df[name].median()\n",
        "    df[name] = df[name].fillna(med)\n",
        "\n",
        "\n",
        "# Convert all missing values in the specified column to the default\n",
        "def missing_default(df, name, default_value):\n",
        "    df[name] = df[name].fillna(default_value)\n",
        "\n",
        "\n",
        "# Convert a Pandas dataframe to the x,y inputs that TensorFlow needs\n",
        "def to_xy(df, target):\n",
        "    result = []\n",
        "    for x in df.columns:\n",
        "        if x != target:\n",
        "            result.append(x)\n",
        "    # find out the type of the target column. \n",
        "    target_type = df[target].dtypes\n",
        "    target_type = target_type[0] if isinstance(target_type, Sequence) else target_type\n",
        "    # Encode to int for classification, float otherwise. TensorFlow likes 32 bits.\n",
        "    if target_type in (np.int64, np.int32):\n",
        "        # Classification\n",
        "        dummies = pd.get_dummies(df[target])\n",
        "        return df[result].values.astype(np.float32), dummies.values.astype(np.float32)\n",
        "    else:\n",
        "        # Regression\n",
        "        return df[result].values.astype(np.float32), df[target].values.astype(np.float32)\n",
        "\n",
        "# Nicely formatted time string\n",
        "def hms_string(sec_elapsed):\n",
        "    h = int(sec_elapsed / (60 * 60))\n",
        "    m = int((sec_elapsed % (60 * 60)) / 60)\n",
        "    s = sec_elapsed % 60\n",
        "    return \"{}:{:>02}:{:>05.2f}\".format(h, m, s)\n",
        "\n",
        "\n",
        "# Regression chart.\n",
        "def chart_regression(pred,y,sort=True):\n",
        "    t = pd.DataFrame({'pred' : pred, 'y' : y.flatten()})\n",
        "    if sort:\n",
        "        t.sort_values(by=['y'],inplace=True)\n",
        "    a = plt.plot(t['y'].tolist(),label='expected')\n",
        "    b = plt.plot(t['pred'].tolist(),label='prediction')\n",
        "    plt.ylabel('output')\n",
        "    plt.legend()\n",
        "    plt.show()\n",
        "\n",
        "# Remove all rows where the specified column is +/- sd standard deviations\n",
        "def remove_outliers(df, name, sd):\n",
        "    drop_rows = df.index[(np.abs(df[name] - df[name].mean()) >= (sd * df[name].std()))]\n",
        "    df.drop(drop_rows, axis=0, inplace=True)\n",
        "\n",
        "\n",
        "# Encode a column to a range between normalized_low and normalized_high.\n",
        "def encode_numeric_range(df, name, normalized_low=-1, normalized_high=1,\n",
        "                         data_low=None, data_high=None):\n",
        "    if data_low is None:\n",
        "        data_low = min(df[name])\n",
        "        data_high = max(df[name])\n",
        "\n",
        "    df[name] = ((df[name] - data_low) / (data_high - data_low)) \\\n",
        "               * (normalized_high - normalized_low) + normalized_low\n"
      ],
      "execution_count": 1,
      "outputs": []
    },
    {
      "cell_type": "markdown",
      "metadata": {
        "id": "qU8FIYWRVXM1"
      },
      "source": [
        "## Switch and Verify GPU\n",
        "\n",
        "### To enable GPU backend for your notebook. Runtime->Change runtime type->Hardware Accelerator->GPU."
      ]
    },
    {
      "cell_type": "code",
      "metadata": {
        "id": "1s9pBa09U_zJ",
        "outputId": "0ec0e021-75ab-4f1f-8926-1ce95ba08fc6",
        "colab": {
          "base_uri": "https://localhost:8080/",
          "height": 35
        }
      },
      "source": [
        "import tensorflow as tf\n",
        "\n",
        "tf.test.gpu_device_name()"
      ],
      "execution_count": null,
      "outputs": [
        {
          "output_type": "execute_result",
          "data": {
            "application/vnd.google.colaboratory.intrinsic+json": {
              "type": "string"
            },
            "text/plain": [
              "'/device:GPU:0'"
            ]
          },
          "metadata": {
            "tags": []
          },
          "execution_count": 2
        }
      ]
    },
    {
      "cell_type": "markdown",
      "metadata": {
        "id": "SFpkSEEDbTag"
      },
      "source": [
        "### If the above code output '/device:GPU:0',  you have switched to GPU successfully and you are ready to go. \n",
        "\n"
      ]
    },
    {
      "cell_type": "markdown",
      "metadata": {
        "collapsed": true,
        "id": "Kv39g9StfOff"
      },
      "source": [
        "## Part I:   Image classification without transfer learning\n",
        "\n",
        "https://www.cs.toronto.edu/~kriz/cifar.html"
      ]
    },
    {
      "cell_type": "code",
      "metadata": {
        "id": "0495-SoMfOfg",
        "outputId": "f0b1cd04-4c84-4967-d8a9-8cfcaf6be46e",
        "colab": {
          "base_uri": "https://localhost:8080/",
          "height": 51
        }
      },
      "source": [
        "#  Load cifar-10 data and split it to training and test\n",
        "from tensorflow.keras.datasets import cifar10\n",
        "\n",
        "from tensorflow.keras.models import Sequential\n",
        "from tensorflow.keras.layers import Dense, Dropout, Activation, Flatten\n",
        "from tensorflow.keras.layers import Conv2D, MaxPooling2D\n",
        "\n",
        "#There are a total of 10 different image categories\n",
        "num_classes = 10\n",
        "\n",
        "# The data split between train and test sets:\n",
        "(x_train, y_train), (x_test, y_test) = cifar10.load_data()\n"
      ],
      "execution_count": null,
      "outputs": [
        {
          "output_type": "stream",
          "text": [
            "Downloading data from https://www.cs.toronto.edu/~kriz/cifar-10-python.tar.gz\n",
            "170500096/170498071 [==============================] - 10s 0us/step\n"
          ],
          "name": "stdout"
        }
      ]
    },
    {
      "cell_type": "code",
      "metadata": {
        "id": "9DWyVv_efOfj",
        "outputId": "e0e88830-31d8-4deb-c520-6023da82623b",
        "colab": {
          "base_uri": "https://localhost:8080/",
          "height": 119
        }
      },
      "source": [
        "# print out data shape\n",
        "\n",
        "print('x_train shape:', x_train.shape)\n",
        "print('y_train shape:', y_train.shape)\n",
        "\n",
        "print('x_test shape:', x_test.shape)\n",
        "print('y_test shape:', y_test.shape)\n",
        "\n",
        "\n",
        "print(x_train.shape[0], 'train samples')\n",
        "print(x_test.shape[0], 'test samples')"
      ],
      "execution_count": null,
      "outputs": [
        {
          "output_type": "stream",
          "text": [
            "x_train shape: (50000, 32, 32, 3)\n",
            "y_train shape: (50000, 1)\n",
            "x_test shape: (10000, 32, 32, 3)\n",
            "y_test shape: (10000, 1)\n",
            "50000 train samples\n",
            "10000 test samples\n"
          ],
          "name": "stdout"
        }
      ]
    },
    {
      "cell_type": "code",
      "metadata": {
        "id": "5_Z_IKevu2Ji",
        "outputId": "f9c407c7-62e7-4101-9b01-3ef544a75199",
        "colab": {
          "base_uri": "https://localhost:8080/",
          "height": 840
        }
      },
      "source": [
        "# print out a random image in x_train as numpy array\n",
        "x_train[15]"
      ],
      "execution_count": null,
      "outputs": [
        {
          "output_type": "execute_result",
          "data": {
            "text/plain": [
              "array([[[100, 168, 231],\n",
              "        [100, 168, 229],\n",
              "        [101, 167, 230],\n",
              "        ...,\n",
              "        [ 95, 165, 231],\n",
              "        [ 94, 165, 228],\n",
              "        [ 95, 167, 229]],\n",
              "\n",
              "       [[103, 170, 230],\n",
              "        [103, 168, 228],\n",
              "        [104, 168, 226],\n",
              "        ...,\n",
              "        [ 97, 167, 229],\n",
              "        [ 97, 166, 227],\n",
              "        [ 97, 168, 229]],\n",
              "\n",
              "       [[107, 174, 233],\n",
              "        [106, 172, 230],\n",
              "        [106, 173, 229],\n",
              "        ...,\n",
              "        [100, 170, 230],\n",
              "        [100, 170, 230],\n",
              "        [101, 172, 232]],\n",
              "\n",
              "       ...,\n",
              "\n",
              "       [[165, 178, 177],\n",
              "        [159, 170, 167],\n",
              "        [167, 177, 170],\n",
              "        ...,\n",
              "        [ 75, 117, 154],\n",
              "        [ 75, 120, 157],\n",
              "        [ 72, 120, 158]],\n",
              "\n",
              "       [[158, 174, 172],\n",
              "        [173, 186, 182],\n",
              "        [182, 193, 188],\n",
              "        ...,\n",
              "        [ 76, 119, 154],\n",
              "        [ 75, 119, 153],\n",
              "        [ 77, 121, 154]],\n",
              "\n",
              "       [[161, 176, 174],\n",
              "        [162, 176, 172],\n",
              "        [160, 171, 169],\n",
              "        ...,\n",
              "        [ 98, 137, 167],\n",
              "        [129, 160, 183],\n",
              "        [162, 185, 202]]], dtype=uint8)"
            ]
          },
          "metadata": {
            "tags": []
          },
          "execution_count": 9
        }
      ]
    },
    {
      "cell_type": "code",
      "metadata": {
        "id": "cbcMvRhqvWAc",
        "outputId": "b5e7e52c-51b3-4fac-d294-98ef2af6c05b",
        "colab": {
          "base_uri": "https://localhost:8080/",
          "height": 283
        }
      },
      "source": [
        "# print it out as image\n",
        "\n",
        "import matplotlib.pyplot as plt\n",
        "\n",
        "\n",
        "plt.imshow(x_train[15])"
      ],
      "execution_count": null,
      "outputs": [
        {
          "output_type": "execute_result",
          "data": {
            "text/plain": [
              "<matplotlib.image.AxesImage at 0x7fd261919a90>"
            ]
          },
          "metadata": {
            "tags": []
          },
          "execution_count": 5
        },
        {
          "output_type": "display_data",
          "data": {
            "image/png": "[encoded data removed]",
            "text/plain": [
              "<Figure size 432x288 with 1 Axes>"
            ]
          },
          "metadata": {
            "tags": [],
            "needs_background": "light"
          }
        }
      ]
    },
    {
      "cell_type": "code",
      "metadata": {
        "id": "qMwUTdqp0rUJ"
      },
      "source": [
        "# Convert y_train from 2D to 1D \n",
        "\n",
        "y_train = y_train.reshape(50000)\n"
      ],
      "execution_count": null,
      "outputs": []
    },
    {
      "cell_type": "code",
      "metadata": {
        "id": "ojvUNZgG0xVe",
        "outputId": "3e1b1c18-2133-47df-a738-bd3507eb97a9",
        "colab": {
          "base_uri": "https://localhost:8080/",
          "height": 34
        }
      },
      "source": [
        "y_train.shape\n",
        "\n",
        "# expected output: (50000,)"
      ],
      "execution_count": null,
      "outputs": [
        {
          "output_type": "execute_result",
          "data": {
            "text/plain": [
              "(50000, 10)"
            ]
          },
          "metadata": {
            "tags": []
          },
          "execution_count": 11
        }
      ]
    },
    {
      "cell_type": "code",
      "metadata": {
        "id": "HcrolrznfOf2"
      },
      "source": [
        "# Convert y_test from 2D to 1D \n",
        "\n",
        "y_test = y_test.reshape(10000)\n"
      ],
      "execution_count": null,
      "outputs": []
    },
    {
      "cell_type": "code",
      "metadata": {
        "id": "iT3IYTNqfOf6",
        "outputId": "07cfb96f-92a6-47f0-95d5-5632835f6f12",
        "colab": {
          "base_uri": "https://localhost:8080/",
          "height": 34
        }
      },
      "source": [
        "y_test.shape\n",
        "\n",
        "# expected output: (10000,)"
      ],
      "execution_count": null,
      "outputs": [
        {
          "output_type": "execute_result",
          "data": {
            "text/plain": [
              "(10000, 10)"
            ]
          },
          "metadata": {
            "tags": []
          },
          "execution_count": 12
        }
      ]
    },
    {
      "cell_type": "code",
      "metadata": {
        "id": "5-lWtPlHfOf9"
      },
      "source": [
        "# Convert class vectors to one hot format\n",
        "\n",
        "y_train = tf.keras.utils.to_categorical(y_train, num_classes)\n",
        "y_test = tf.keras.utils.to_categorical(y_test, num_classes)"
      ],
      "execution_count": null,
      "outputs": []
    },
    {
      "cell_type": "code",
      "metadata": {
        "id": "DFzHf8QefOgC"
      },
      "source": [
        "# Convert data from int to float and normalize it\n",
        "\n",
        "\n",
        "x_train = x_train.astype('float32')\n",
        "x_test = x_test.astype('float32')\n",
        "\n",
        "x_train /= 255\n",
        "x_test /= 255"
      ],
      "execution_count": null,
      "outputs": []
    },
    {
      "cell_type": "markdown",
      "metadata": {
        "id": "QXXjBVW1lDt1"
      },
      "source": [
        "###  Write your code in the cell below to create a CNN model which contains the following types of operations (layers):   \n",
        "\n",
        "- Conv2D\n",
        "- Activation\n",
        "- MaxPooling2D\n",
        "- Flatten\n",
        "- Dropout\n",
        "- Dense\n",
        "\n",
        "### (optional) You are also encouraged to create multiple models with different activiation functions, different numbers of neurons and layers for performance comparison."
      ]
    },
    {
      "cell_type": "code",
      "metadata": {
        "id": "grVEwQfQfOgE"
      },
      "source": [
        "model = Sequential()\n",
        "\n",
        "batch_size = 128\n",
        "input_shape = (32, 32, 3)\n",
        "\n",
        "#Here is the model I created\n",
        "#I tried different combinations of activation functioins, nuerons and layers\n",
        "#This is the one I found to have the best result which close to the following after each execution\n",
        "#Accuracy score: 0.8134\n",
        "#Recall score: 0.8134\n",
        "#Precision score: 0.8144844573504945\n",
        "#F1 score: 0.8124466419896662\n",
        "\n",
        "model.add(Conv2D(64, (3, 3), padding='same', input_shape=input_shape))\n",
        "model.add(Activation('relu'))\n",
        "model.add(MaxPooling2D(pool_size=(2, 2)))\n",
        "model.add(Dropout(0.25))\n",
        "\n",
        "model.add(Conv2D(128, (3, 3), padding='same'))\n",
        "model.add(Activation('relu'))\n",
        "model.add(MaxPooling2D(pool_size=(2, 2)))\n",
        "model.add(Dropout(0.25))\n",
        "\n",
        "model.add(Conv2D(128, (3, 3), padding='same'))\n",
        "model.add(Activation('relu'))\n",
        "model.add(MaxPooling2D(pool_size=(2, 2)))\n",
        "model.add(Dropout(0.25))\n",
        "\n",
        "model.add(Flatten())\n",
        "model.add(Dense(1028))\n",
        "model.add(Activation('relu'))\n",
        "model.add(Dropout(0.5))\n",
        "\n",
        "model.add(Dense(num_classes, activation=\"softmax\"))\n"
      ],
      "execution_count": null,
      "outputs": []
    },
    {
      "cell_type": "code",
      "metadata": {
        "id": "FekC4kgffOgG",
        "outputId": "bc74f459-ef5a-4a6c-a8cd-9e24efc56256",
        "colab": {
          "base_uri": "https://localhost:8080/",
          "height": 731
        }
      },
      "source": [
        "# Print model summary\n",
        "\n",
        "model.summary()"
      ],
      "execution_count": null,
      "outputs": [
        {
          "output_type": "stream",
          "text": [
            "Model: \"sequential\"\n",
            "_________________________________________________________________\n",
            "Layer (type)                 Output Shape              Param #   \n",
            "=================================================================\n",
            "conv2d (Conv2D)              (None, 32, 32, 64)        1792      \n",
            "_________________________________________________________________\n",
            "activation (Activation)      (None, 32, 32, 64)        0         \n",
            "_________________________________________________________________\n",
            "max_pooling2d (MaxPooling2D) (None, 16, 16, 64)        0         \n",
            "_________________________________________________________________\n",
            "dropout (Dropout)            (None, 16, 16, 64)        0         \n",
            "_________________________________________________________________\n",
            "conv2d_1 (Conv2D)            (None, 16, 16, 128)       73856     \n",
            "_________________________________________________________________\n",
            "activation_1 (Activation)    (None, 16, 16, 128)       0         \n",
            "_________________________________________________________________\n",
            "max_pooling2d_1 (MaxPooling2 (None, 8, 8, 128)         0         \n",
            "_________________________________________________________________\n",
            "dropout_1 (Dropout)          (None, 8, 8, 128)         0         \n",
            "_________________________________________________________________\n",
            "conv2d_2 (Conv2D)            (None, 8, 8, 128)         147584    \n",
            "_________________________________________________________________\n",
            "activation_2 (Activation)    (None, 8, 8, 128)         0         \n",
            "_________________________________________________________________\n",
            "max_pooling2d_2 (MaxPooling2 (None, 4, 4, 128)         0         \n",
            "_________________________________________________________________\n",
            "dropout_2 (Dropout)          (None, 4, 4, 128)         0         \n",
            "_________________________________________________________________\n",
            "flatten (Flatten)            (None, 2048)              0         \n",
            "_________________________________________________________________\n",
            "dense (Dense)                (None, 1028)              2106372   \n",
            "_________________________________________________________________\n",
            "activation_3 (Activation)    (None, 1028)              0         \n",
            "_________________________________________________________________\n",
            "dropout_3 (Dropout)          (None, 1028)              0         \n",
            "_________________________________________________________________\n",
            "dense_1 (Dense)              (None, 10)                10290     \n",
            "=================================================================\n",
            "Total params: 2,339,894\n",
            "Trainable params: 2,339,894\n",
            "Non-trainable params: 0\n",
            "_________________________________________________________________\n"
          ],
          "name": "stdout"
        }
      ]
    },
    {
      "cell_type": "markdown",
      "metadata": {
        "id": "uVNwHr_AmKJi"
      },
      "source": [
        "### Write your code in the cell below for compile, earlystopping and fit. Notice that you should use earlystopping"
      ]
    },
    {
      "cell_type": "code",
      "metadata": {
        "id": "QUxCqaaZfOgI",
        "outputId": "f8992970-483f-4a7a-aebb-bb73a8a1e0fb",
        "colab": {
          "base_uri": "https://localhost:8080/",
          "height": 901
        }
      },
      "source": [
        "import time \n",
        "from tensorflow.keras.optimizers import Adam\n",
        "from tensorflow.keras.callbacks import EarlyStopping, ModelCheckpoint\n",
        "\n",
        "start_time = time.time()\n",
        "model.compile(loss=tf.keras.losses.categorical_crossentropy, optimizer=Adam(lr=0.001, decay=1e-6), metrics=['accuracy'])\n",
        "\n",
        "monitor = EarlyStopping(monitor='val_loss', min_delta=1e-3, patience=5, verbose=1, mode='auto')\n",
        "\n",
        "model.fit(x_train, y_train, \n",
        "          batch_size=batch_size,\n",
        "          callbacks = [monitor],\n",
        "          epochs=100,\n",
        "          verbose=2,\n",
        "          validation_data=(x_test, y_test))\n",
        "\n",
        "elapsed_time = time.time() - start_time\n",
        "print(\"Elapsed time: {}\".format(hms_string(elapsed_time)))\n"
      ],
      "execution_count": null,
      "outputs": [
        {
          "output_type": "stream",
          "text": [
            "Epoch 1/100\n",
            "391/391 - 4s - loss: 1.5975 - accuracy: 0.4140 - val_loss: 1.1945 - val_accuracy: 0.5756\n",
            "Epoch 2/100\n",
            "391/391 - 4s - loss: 1.1728 - accuracy: 0.5822 - val_loss: 0.9956 - val_accuracy: 0.6468\n",
            "Epoch 3/100\n",
            "391/391 - 4s - loss: 1.0051 - accuracy: 0.6440 - val_loss: 0.8707 - val_accuracy: 0.7044\n",
            "Epoch 4/100\n",
            "391/391 - 4s - loss: 0.9037 - accuracy: 0.6818 - val_loss: 0.7893 - val_accuracy: 0.7242\n",
            "Epoch 5/100\n",
            "391/391 - 4s - loss: 0.8343 - accuracy: 0.7084 - val_loss: 0.7741 - val_accuracy: 0.7317\n",
            "Epoch 6/100\n",
            "391/391 - 4s - loss: 0.7788 - accuracy: 0.7251 - val_loss: 0.7512 - val_accuracy: 0.7381\n",
            "Epoch 7/100\n",
            "391/391 - 4s - loss: 0.7205 - accuracy: 0.7444 - val_loss: 0.6767 - val_accuracy: 0.7633\n",
            "Epoch 8/100\n",
            "391/391 - 4s - loss: 0.6859 - accuracy: 0.7585 - val_loss: 0.6807 - val_accuracy: 0.7622\n",
            "Epoch 9/100\n",
            "391/391 - 4s - loss: 0.6448 - accuracy: 0.7711 - val_loss: 0.6369 - val_accuracy: 0.7785\n",
            "Epoch 10/100\n",
            "391/391 - 4s - loss: 0.6091 - accuracy: 0.7845 - val_loss: 0.6241 - val_accuracy: 0.7852\n",
            "Epoch 11/100\n",
            "391/391 - 4s - loss: 0.5936 - accuracy: 0.7902 - val_loss: 0.6380 - val_accuracy: 0.7806\n",
            "Epoch 12/100\n",
            "391/391 - 4s - loss: 0.5706 - accuracy: 0.7972 - val_loss: 0.6517 - val_accuracy: 0.7802\n",
            "Epoch 13/100\n",
            "391/391 - 4s - loss: 0.5389 - accuracy: 0.8078 - val_loss: 0.6061 - val_accuracy: 0.7909\n",
            "Epoch 14/100\n",
            "391/391 - 4s - loss: 0.5203 - accuracy: 0.8170 - val_loss: 0.5933 - val_accuracy: 0.7962\n",
            "Epoch 15/100\n",
            "391/391 - 4s - loss: 0.4984 - accuracy: 0.8256 - val_loss: 0.5902 - val_accuracy: 0.8043\n",
            "Epoch 16/100\n",
            "391/391 - 4s - loss: 0.4767 - accuracy: 0.8305 - val_loss: 0.5858 - val_accuracy: 0.8030\n",
            "Epoch 17/100\n",
            "391/391 - 4s - loss: 0.4713 - accuracy: 0.8336 - val_loss: 0.5810 - val_accuracy: 0.8045\n",
            "Epoch 18/100\n",
            "391/391 - 4s - loss: 0.4506 - accuracy: 0.8389 - val_loss: 0.5994 - val_accuracy: 0.7998\n",
            "Epoch 19/100\n",
            "391/391 - 4s - loss: 0.4355 - accuracy: 0.8460 - val_loss: 0.5960 - val_accuracy: 0.8021\n",
            "Epoch 20/100\n",
            "391/391 - 4s - loss: 0.4267 - accuracy: 0.8488 - val_loss: 0.5769 - val_accuracy: 0.8074\n",
            "Epoch 21/100\n",
            "391/391 - 4s - loss: 0.4140 - accuracy: 0.8526 - val_loss: 0.6045 - val_accuracy: 0.8042\n",
            "Epoch 22/100\n",
            "391/391 - 4s - loss: 0.4117 - accuracy: 0.8562 - val_loss: 0.6181 - val_accuracy: 0.7954\n",
            "Epoch 23/100\n",
            "391/391 - 4s - loss: 0.3959 - accuracy: 0.8582 - val_loss: 0.5857 - val_accuracy: 0.8071\n",
            "Epoch 24/100\n",
            "391/391 - 4s - loss: 0.3871 - accuracy: 0.8612 - val_loss: 0.6169 - val_accuracy: 0.7967\n",
            "Epoch 25/100\n",
            "391/391 - 4s - loss: 0.3704 - accuracy: 0.8685 - val_loss: 0.5773 - val_accuracy: 0.8127\n",
            "Epoch 00025: early stopping\n",
            "Elapsed time: 0:01:52.12\n"
          ],
          "name": "stdout"
        }
      ]
    },
    {
      "cell_type": "markdown",
      "metadata": {
        "id": "Xigd26XOoU-F"
      },
      "source": [
        "### Write your code in the cell below to print out the Precision, Recall,  F1 score, and classification_*report*\n",
        "\n",
        "### Include your findings in the project report. "
      ]
    },
    {
      "cell_type": "code",
      "metadata": {
        "id": "2_92T0bsfOgQ",
        "outputId": "28c6d4dc-201e-4e27-f860-fa93317ea5bf",
        "colab": {
          "base_uri": "https://localhost:8080/",
          "height": 374
        }
      },
      "source": [
        "from sklearn import metrics\n",
        "\n",
        "y_true = np.argmax(y_test,axis=1)\n",
        "pred = model.predict(x_test)\n",
        "pred = np.argmax(pred,axis=1)\n",
        "\n",
        "accuracy = metrics.accuracy_score(y_true, pred)\n",
        "print(\"Accuracy score: {}\".format(accuracy))\n",
        "\n",
        "recall = metrics.recall_score(y_true, pred, average= \"weighted\")\n",
        "print(\"Recall score: {}\".format(recall))\n",
        "\n",
        "precision = metrics.precision_score(y_true, pred, average= \"weighted\")\n",
        "print(\"Precision score: {}\".format(precision))\n",
        "\n",
        "f1 = metrics.f1_score(y_true, pred, average= \"weighted\")\n",
        "print(\"F1 score: {}\".format(f1))\n",
        "\n",
        "print(metrics.classification_report(y_true, pred))"
      ],
      "execution_count": null,
      "outputs": [
        {
          "output_type": "stream",
          "text": [
            "Accuracy score: 0.8127\n",
            "Recall score: 0.8127\n",
            "Precision score: 0.8118695039717929\n",
            "F1 score: 0.8116395250442116\n",
            "              precision    recall  f1-score   support\n",
            "\n",
            "           0       0.82      0.83      0.82      1000\n",
            "           1       0.92      0.90      0.91      1000\n",
            "           2       0.78      0.70      0.74      1000\n",
            "           3       0.65      0.64      0.64      1000\n",
            "           4       0.77      0.80      0.78      1000\n",
            "           5       0.76      0.71      0.73      1000\n",
            "           6       0.83      0.89      0.86      1000\n",
            "           7       0.84      0.86      0.85      1000\n",
            "           8       0.86      0.93      0.89      1000\n",
            "           9       0.90      0.88      0.89      1000\n",
            "\n",
            "    accuracy                           0.81     10000\n",
            "   macro avg       0.81      0.81      0.81     10000\n",
            "weighted avg       0.81      0.81      0.81     10000\n",
            "\n"
          ],
          "name": "stdout"
        }
      ]
    },
    {
      "cell_type": "markdown",
      "metadata": {
        "id": "103RRPUvtOie"
      },
      "source": [
        "### Write your code in the cell below to show 3-5 images in the test set as well as their true labels and their labels predicted by your model.\n",
        "\n",
        "### Include your findings in the project report."
      ]
    },
    {
      "cell_type": "code",
      "metadata": {
        "id": "fFryw76VtOie",
        "outputId": "ba189c31-ee5d-4024-b172-c9268cfea252",
        "colab": {
          "base_uri": "https://localhost:8080/",
          "height": 582
        }
      },
      "source": [
        "import matplotlib.pyplot as plt\n",
        "import cv2\n",
        "\n",
        "#These are the labels for the cifar10 dataset \n",
        "labels = ['airplane', 'automobile', 'bird', 'cat', 'deer', 'dog', 'frog', 'horse', 'ship', 'truck']\n",
        "\n",
        "plt.figure(figsize=(32,32))\n",
        "\n",
        "for i in range(3):\n",
        "  #Display a random image from test set\n",
        "  j = np.random.randint(0, x_test.shape[0])\n",
        "\n",
        "  #it was giving errors so I needed to resize the image to 4 dimensional image\n",
        "  img = np.reshape(x_test[j], [1, 32, 32, 3])\n",
        "\n",
        "  #based on code from https://github.com/uchidama/CIFAR10-Prediction-In-Keras/blob/master/keras_cifar10_prediction.ipynb\n",
        "  plt.subplot(1, 3, i+1)\n",
        "  plt.imshow(x_test[j])\n",
        "  plt.title(\"True Label: \"+(labels[np.argmax(y_test[j])]) + \"    Label Predicted by Model: \"+ (labels[np.argmax(model.predict(img))]))\n",
        "\n"
      ],
      "execution_count": null,
      "outputs": [
        {
          "output_type": "display_data",
          "data": {
            "image/png": "[encoded data removed]",
            "text/plain": [
              "<Figure size 2304x2304 with 3 Axes>"
            ]
          },
          "metadata": {
            "tags": [],
            "needs_background": "light"
          }
        }
      ]
    },
    {
      "cell_type": "markdown",
      "metadata": {
        "id": "MgBnw9dRfOgS"
      },
      "source": [
        "\n",
        "\n",
        "## Part II:   CNN model with Transfer Learning"
      ]
    },
    {
      "cell_type": "code",
      "metadata": {
        "id": "H9rvtqrsfOgT",
        "outputId": "6fb06a21-4be0-4c06-e248-b484440d8b83",
        "colab": {
          "base_uri": "https://localhost:8080/",
          "height": 153
        }
      },
      "source": [
        "#  Load cifar-10 data and split it to training and test\n",
        "from tensorflow.keras.datasets import cifar10\n",
        "\n",
        "from tensorflow.keras.models import Sequential\n",
        "from tensorflow.keras.layers import Dense, Dropout, Activation, Flatten\n",
        "from tensorflow.keras.layers import Conv2D, MaxPooling2D\n",
        "\n",
        "#There are a total of 10 different image categories\n",
        "num_classes = 10\n",
        "\n",
        "# We load data again.   The data split between train and test sets:\n",
        "\n",
        "(x_train, y_train), (x_test, y_test) = cifar10.load_data()\n",
        "\n",
        "\n",
        "print('x_train shape:', x_train.shape)\n",
        "print('y_train shape:', y_train.shape)\n",
        "\n",
        "print('x_test shape:', x_test.shape)\n",
        "print('y_test shape:', y_test.shape)\n",
        "\n",
        "\n",
        "print(x_train.shape[0], 'train samples')\n",
        "print(x_test.shape[0], 'test samples')"
      ],
      "execution_count": 2,
      "outputs": [
        {
          "output_type": "stream",
          "text": [
            "Downloading data from https://www.cs.toronto.edu/~kriz/cifar-10-python.tar.gz\n",
            "170500096/170498071 [==============================] - 4s 0us/step\n",
            "x_train shape: (50000, 32, 32, 3)\n",
            "y_train shape: (50000, 1)\n",
            "x_test shape: (10000, 32, 32, 3)\n",
            "y_test shape: (10000, 1)\n",
            "50000 train samples\n",
            "10000 test samples\n"
          ],
          "name": "stdout"
        }
      ]
    },
    {
      "cell_type": "markdown",
      "metadata": {
        "id": "UGSxqVVypDiX"
      },
      "source": [
        "### Here we would like to use one pre-trained model called VGG16.   For more details on VGG16, please go to https://neurohive.io/en/popular-networks/vgg16/\n",
        "\n",
        "\n",
        "### VGG16 supports down to 48x48 images as an input. However, the resolution of our images is too low, which is (32, 32) so we need to increase the resolution.   This is called upsampling. \n",
        "\n",
        "\n",
        "\n",
        "### Find a way to do upsampling for each image to increase its resolution from 32x32 to 64x64. One option is to use the function resize(), which is provided by scikit-image library (https://scikit-image.org/)\n",
        "\n",
        "\n",
        "### Things to note: \n",
        "\n",
        "#### (1) If you use resize() in scikit-image, that function also normalizes the input image so you may not want to normalize twice.\n",
        "\n",
        "#### (2) Apply upsampling to x_train and x_test seperately. "
      ]
    },
    {
      "cell_type": "code",
      "metadata": {
        "id": "XWwBKsh-fOgX"
      },
      "source": [
        "import skimage.transform\n",
        "\n",
        "new_x_train = []\n",
        "\n",
        "for img in x_train:\n",
        "  newImage = skimage.transform.resize(img, (64, 64))\n",
        "  new_x_train.append(newImage)\n",
        "\n",
        "\n",
        "# this process may take about a few minutes ...."
      ],
      "execution_count": 3,
      "outputs": []
    },
    {
      "cell_type": "code",
      "metadata": {
        "id": "AyBqG65qQ_Ez"
      },
      "source": [
        "new_x_train = np.asarray(new_x_train)\n"
      ],
      "execution_count": 4,
      "outputs": []
    },
    {
      "cell_type": "code",
      "metadata": {
        "id": "W9_aC_eYRMxt",
        "outputId": "208b8234-e1fa-4682-f96d-0524a732ba5c",
        "colab": {
          "base_uri": "https://localhost:8080/",
          "height": 34
        }
      },
      "source": [
        "new_x_train.shape"
      ],
      "execution_count": 5,
      "outputs": [
        {
          "output_type": "execute_result",
          "data": {
            "text/plain": [
              "(50000, 64, 64, 3)"
            ]
          },
          "metadata": {
            "tags": []
          },
          "execution_count": 5
        }
      ]
    },
    {
      "cell_type": "code",
      "metadata": {
        "id": "0s0-oaKDfOgf"
      },
      "source": [
        "new_x_test = []\n",
        "\n",
        "for img in x_test:\n",
        "  newImage = skimage.transform.resize(img, (64, 64))\n",
        "  new_x_test.append(newImage) \n",
        "\n",
        "# this process may take about a few minutes ...."
      ],
      "execution_count": 6,
      "outputs": []
    },
    {
      "cell_type": "code",
      "metadata": {
        "id": "-S_ec9FsDzXp"
      },
      "source": [
        "new_x_test = np.asarray(new_x_test)"
      ],
      "execution_count": 7,
      "outputs": []
    },
    {
      "cell_type": "code",
      "metadata": {
        "id": "YI8HsWNrDrri",
        "outputId": "16ecafa0-1a3b-46e2-b9d1-1ccf0d73cc56",
        "colab": {
          "base_uri": "https://localhost:8080/",
          "height": 34
        }
      },
      "source": [
        "new_x_test.shape"
      ],
      "execution_count": 8,
      "outputs": [
        {
          "output_type": "execute_result",
          "data": {
            "text/plain": [
              "(10000, 64, 64, 3)"
            ]
          },
          "metadata": {
            "tags": []
          },
          "execution_count": 8
        }
      ]
    },
    {
      "cell_type": "markdown",
      "metadata": {
        "id": "pPjFo2oyqlGO"
      },
      "source": [
        "### Write your code in the cell below to do the following:\n",
        "\n",
        "- First convert y_train and y_test from 2D to 1D by using reshape() function \n",
        "- Next apply one-hot encoding to y_train and y_test by using tf.keras.utils.to_categorical() function"
      ]
    },
    {
      "cell_type": "code",
      "metadata": {
        "id": "fQuVaf2pkRdr"
      },
      "source": [
        "# Convert y_train and y_test from 2D to 1D\n",
        "\n",
        "y_train = y_train.reshape(50000)\n",
        "y_test = y_test.reshape(10000)\n",
        "\n"
      ],
      "execution_count": 9,
      "outputs": []
    },
    {
      "cell_type": "code",
      "metadata": {
        "id": "w_pLuCNjqvbf",
        "outputId": "bc5bce83-0f44-4956-decb-bdfb1aeac672",
        "colab": {
          "base_uri": "https://localhost:8080/",
          "height": 51
        }
      },
      "source": [
        "# double check shape\n",
        "\n",
        "print(y_train.shape)\n",
        "print(y_test.shape)\n",
        "\n",
        "\n",
        "# expected output:  (50000, 10)\n",
        "# expected output:  (10000, 10)"
      ],
      "execution_count": 10,
      "outputs": [
        {
          "output_type": "stream",
          "text": [
            "(50000,)\n",
            "(10000,)\n"
          ],
          "name": "stdout"
        }
      ]
    },
    {
      "cell_type": "code",
      "metadata": {
        "id": "4wu6UhBbN93c"
      },
      "source": [
        "# Apply one-hot encoding to y_train and y_test\n",
        "y_train = tf.keras.utils.to_categorical(y_train, num_classes)\n",
        "y_test = tf.keras.utils.to_categorical(y_test, num_classes)"
      ],
      "execution_count": 11,
      "outputs": []
    },
    {
      "cell_type": "markdown",
      "metadata": {
        "id": "x-bzRNdjfOgy"
      },
      "source": [
        "###  Load the pre-trained VGG16 model.  Write your code in the cell below to add each layer in VGG16 (excluding the top layers) to your new model.  "
      ]
    },
    {
      "cell_type": "code",
      "metadata": {
        "id": "4HLwE00VfOgz",
        "outputId": "0c26b42f-a2aa-4c21-a7ba-231a3196715d",
        "colab": {
          "base_uri": "https://localhost:8080/",
          "height": 799
        }
      },
      "source": [
        "from tensorflow.keras.applications.vgg16 import VGG16\n",
        "\n",
        "from keras.applications.vgg16 import VGG16\n",
        "from keras.preprocessing import image\n",
        "from keras.applications.vgg16 import preprocess_input\n",
        "from keras.layers import Input, Flatten, Dense\n",
        "from keras.models import Model\n",
        "from keras import models\n",
        "\n",
        "from tensorflow.keras.layers import Conv2D, MaxPooling2D\n",
        "import numpy as np\n",
        "\n",
        "vgg_model = VGG16(weights='imagenet', include_top=False, input_shape=(64, 64, 3))   #  first hidden layer\n",
        "\n",
        "model = Sequential()\n",
        "\n",
        "  \n",
        "# write your code here\n",
        "for layer in vgg_model.layers:\n",
        "  model.add(layer)\n",
        "\n",
        "\n",
        "# print out the model summary\n",
        "model.summary()\n"
      ],
      "execution_count": 12,
      "outputs": [
        {
          "output_type": "stream",
          "text": [
            "Downloading data from https://storage.googleapis.com/tensorflow/keras-applications/vgg16/vgg16_weights_tf_dim_ordering_tf_kernels_notop.h5\n",
            "58892288/58889256 [==============================] - 0s 0us/step\n",
            "Model: \"sequential\"\n",
            "_________________________________________________________________\n",
            "Layer (type)                 Output Shape              Param #   \n",
            "=================================================================\n",
            "block1_conv1 (Conv2D)        (None, 64, 64, 64)        1792      \n",
            "_________________________________________________________________\n",
            "block1_conv2 (Conv2D)        (None, 64, 64, 64)        36928     \n",
            "_________________________________________________________________\n",
            "block1_pool (MaxPooling2D)   (None, 32, 32, 64)        0         \n",
            "_________________________________________________________________\n",
            "block2_conv1 (Conv2D)        (None, 32, 32, 128)       73856     \n",
            "_________________________________________________________________\n",
            "block2_conv2 (Conv2D)        (None, 32, 32, 128)       147584    \n",
            "_________________________________________________________________\n",
            "block2_pool (MaxPooling2D)   (None, 16, 16, 128)       0         \n",
            "_________________________________________________________________\n",
            "block3_conv1 (Conv2D)        (None, 16, 16, 256)       295168    \n",
            "_________________________________________________________________\n",
            "block3_conv2 (Conv2D)        (None, 16, 16, 256)       590080    \n",
            "_________________________________________________________________\n",
            "block3_conv3 (Conv2D)        (None, 16, 16, 256)       590080    \n",
            "_________________________________________________________________\n",
            "block3_pool (MaxPooling2D)   (None, 8, 8, 256)         0         \n",
            "_________________________________________________________________\n",
            "block4_conv1 (Conv2D)        (None, 8, 8, 512)         1180160   \n",
            "_________________________________________________________________\n",
            "block4_conv2 (Conv2D)        (None, 8, 8, 512)         2359808   \n",
            "_________________________________________________________________\n",
            "block4_conv3 (Conv2D)        (None, 8, 8, 512)         2359808   \n",
            "_________________________________________________________________\n",
            "block4_pool (MaxPooling2D)   (None, 4, 4, 512)         0         \n",
            "_________________________________________________________________\n",
            "block5_conv1 (Conv2D)        (None, 4, 4, 512)         2359808   \n",
            "_________________________________________________________________\n",
            "block5_conv2 (Conv2D)        (None, 4, 4, 512)         2359808   \n",
            "_________________________________________________________________\n",
            "block5_conv3 (Conv2D)        (None, 4, 4, 512)         2359808   \n",
            "_________________________________________________________________\n",
            "block5_pool (MaxPooling2D)   (None, 2, 2, 512)         0         \n",
            "=================================================================\n",
            "Total params: 14,714,688\n",
            "Trainable params: 14,714,688\n",
            "Non-trainable params: 0\n",
            "_________________________________________________________________\n"
          ],
          "name": "stdout"
        }
      ]
    },
    {
      "cell_type": "markdown",
      "metadata": {
        "id": "4ki8D32hrl3E"
      },
      "source": [
        "### Write your code in the cell below to freeze the weights in each layer in the new model"
      ]
    },
    {
      "cell_type": "code",
      "metadata": {
        "id": "X_oqboGwfOg1"
      },
      "source": [
        "for layer in model.layers:\n",
        "  layer.trainable = False"
      ],
      "execution_count": 13,
      "outputs": []
    },
    {
      "cell_type": "markdown",
      "metadata": {
        "id": "YArrSsS4rt_t"
      },
      "source": [
        "###  Write your code in the cell below to add some \"Dense\" layers as top layers.\n",
        "\n",
        "- Donot forget the output layer\n",
        "- Choose the right activation fucntion for the output layer"
      ]
    },
    {
      "cell_type": "code",
      "metadata": {
        "id": "Fphbz0FhfOg3"
      },
      "source": [
        "from tensorflow.keras.models import load_model\n",
        "from keras.layers import *\n",
        "from keras.models import Sequential\n",
        "from keras.applications.resnet50 import ResNet50\n",
        "import keras\n",
        "import keras.utils\n",
        "from keras import utils as np_utils\n",
        "from keras import models\n",
        "from keras import layers\n",
        "from keras import backend as K\n",
        "\n",
        "# model.add(Flatten())\n",
        "# # Add some \"Dense\" layers here, including output layer\n",
        "# model.add(Dense(128, activation='sigmoid'))\n",
        "# model.add(Flatten())\n",
        "# model.add(Dense(64, activation='sigmoid'))\n",
        "# model.add(Flatten())\n",
        "# model.add(Dropout(0.25))\n",
        "# model.add(Dense(8, activation='sigmoid'))\n",
        "# model.add(Dense(num_classes, activation=\"softmax\"))\n",
        "\n",
        "model.add(Flatten())\n",
        "# Add some \"Dense\" layers here, including output layer\n",
        "model.add(Dense(64, activation='sigmoid'))\n",
        "model.add(Flatten())\n",
        "model.add(Dense(128, activation='sigmoid'))\n",
        "model.add(Flatten())\n",
        "model.add(Dropout(0.25))\n",
        "model.add(Dense(128, activation='sigmoid'))\n",
        "model.add(Flatten())\n",
        "model.add(Dropout(0.25))\n",
        "model.add(Dense(8, activation='sigmoid'))\n",
        "model.add(Dense(num_classes, activation=\"softmax\"))\n",
        "\n"
      ],
      "execution_count": 14,
      "outputs": []
    },
    {
      "cell_type": "markdown",
      "metadata": {
        "id": "sDOG92fcr1m8"
      },
      "source": [
        "###  Write your code below for compile and fit. \n",
        "\n",
        "### Train your new model. \n",
        "\n",
        "### Notice that you should use earlystopping."
      ]
    },
    {
      "cell_type": "code",
      "metadata": {
        "id": "xWrWTc2JfOg6",
        "scrolled": false,
        "outputId": "8cfb06eb-b05e-493e-a262-99cc4f5f6c8c",
        "colab": {
          "base_uri": "https://localhost:8080/",
          "height": 765
        }
      },
      "source": [
        "from tensorflow.keras.optimizers import Adam\n",
        "from tensorflow.keras.callbacks import EarlyStopping, ModelCheckpoint\n",
        "import time \n",
        "\n",
        "start_time = time.time()\n",
        "model.compile(loss='categorical_crossentropy', optimizer=Adam(lr=0.001, decay=1e-6), metrics=['accuracy'])\n",
        "\n",
        "monitor = EarlyStopping(monitor='val_loss', min_delta=1e-3, patience=5, verbose=1, mode='auto')\n",
        "\n",
        "model.fit(new_x_train, y_train, \n",
        "          batch_size=128,\n",
        "          callbacks = [monitor],\n",
        "          epochs=100,\n",
        "          verbose=2,\n",
        "          validation_data=(new_x_test, y_test))\n",
        "\n",
        "elapsed_time = time.time() - start_time\n",
        "print(\"Elapsed time: {}\".format(hms_string(elapsed_time)))\n",
        "\n",
        "\n",
        "# since we use GPU, the training time for each epoch for the transferred model is about 60 seconds.  \n",
        "# Let it run for a few epochs. "
      ],
      "execution_count": 15,
      "outputs": [
        {
          "output_type": "stream",
          "text": [
            "Epoch 1/100\n",
            "391/391 - 20s - loss: 1.9645 - accuracy: 0.3221 - val_loss: 1.6877 - val_accuracy: 0.4662\n",
            "Epoch 2/100\n",
            "391/391 - 19s - loss: 1.5436 - accuracy: 0.4995 - val_loss: 1.4229 - val_accuracy: 0.5356\n",
            "Epoch 3/100\n",
            "391/391 - 19s - loss: 1.3538 - accuracy: 0.5538 - val_loss: 1.2973 - val_accuracy: 0.5747\n",
            "Epoch 4/100\n",
            "391/391 - 19s - loss: 1.2320 - accuracy: 0.5903 - val_loss: 1.2100 - val_accuracy: 0.5985\n",
            "Epoch 5/100\n",
            "391/391 - 19s - loss: 1.1452 - accuracy: 0.6218 - val_loss: 1.1420 - val_accuracy: 0.6222\n",
            "Epoch 6/100\n",
            "391/391 - 20s - loss: 1.0734 - accuracy: 0.6525 - val_loss: 1.0903 - val_accuracy: 0.6457\n",
            "Epoch 7/100\n",
            "391/391 - 19s - loss: 1.0096 - accuracy: 0.6756 - val_loss: 1.0698 - val_accuracy: 0.6463\n",
            "Epoch 8/100\n",
            "391/391 - 19s - loss: 0.9535 - accuracy: 0.6935 - val_loss: 1.0286 - val_accuracy: 0.6613\n",
            "Epoch 9/100\n",
            "391/391 - 19s - loss: 0.9089 - accuracy: 0.7080 - val_loss: 1.0006 - val_accuracy: 0.6713\n",
            "Epoch 10/100\n",
            "391/391 - 19s - loss: 0.8695 - accuracy: 0.7204 - val_loss: 0.9714 - val_accuracy: 0.6781\n",
            "Epoch 11/100\n",
            "391/391 - 19s - loss: 0.8345 - accuracy: 0.7315 - val_loss: 0.9575 - val_accuracy: 0.6834\n",
            "Epoch 12/100\n",
            "391/391 - 19s - loss: 0.7991 - accuracy: 0.7418 - val_loss: 0.9440 - val_accuracy: 0.6891\n",
            "Epoch 13/100\n",
            "391/391 - 19s - loss: 0.7696 - accuracy: 0.7508 - val_loss: 0.9723 - val_accuracy: 0.6799\n",
            "Epoch 14/100\n",
            "391/391 - 19s - loss: 0.7439 - accuracy: 0.7599 - val_loss: 0.9512 - val_accuracy: 0.6893\n",
            "Epoch 15/100\n",
            "391/391 - 19s - loss: 0.7132 - accuracy: 0.7701 - val_loss: 0.9474 - val_accuracy: 0.6888\n",
            "Epoch 16/100\n",
            "391/391 - 19s - loss: 0.6872 - accuracy: 0.7787 - val_loss: 0.9333 - val_accuracy: 0.6989\n",
            "Epoch 17/100\n",
            "391/391 - 19s - loss: 0.6622 - accuracy: 0.7876 - val_loss: 0.9440 - val_accuracy: 0.6960\n",
            "Epoch 18/100\n",
            "391/391 - 19s - loss: 0.6444 - accuracy: 0.7923 - val_loss: 0.9751 - val_accuracy: 0.6846\n",
            "Epoch 19/100\n",
            "391/391 - 19s - loss: 0.6201 - accuracy: 0.8017 - val_loss: 0.9547 - val_accuracy: 0.6935\n",
            "Epoch 20/100\n",
            "391/391 - 19s - loss: 0.5987 - accuracy: 0.8065 - val_loss: 0.9397 - val_accuracy: 0.6981\n",
            "Epoch 21/100\n",
            "391/391 - 19s - loss: 0.5793 - accuracy: 0.8135 - val_loss: 0.9589 - val_accuracy: 0.6906\n",
            "Epoch 00021: early stopping\n",
            "Elapsed time: 0:06:53.20\n"
          ],
          "name": "stdout"
        }
      ]
    },
    {
      "cell_type": "markdown",
      "metadata": {
        "id": "ps2CZ8Xwrz_a"
      },
      "source": [
        "### Write your code below to print out the Precision, Recall, F1 score, and classification_report\n",
        "\n",
        "### Include your findings in the project report."
      ]
    },
    {
      "cell_type": "code",
      "metadata": {
        "id": "rMRuLfS3fOg8",
        "scrolled": true,
        "outputId": "9b200ad8-4bb0-4feb-adcb-f2dbeac67407",
        "colab": {
          "base_uri": "https://localhost:8080/",
          "height": 374
        }
      },
      "source": [
        "from sklearn import metrics\n",
        "\n",
        "y_true = np.argmax(y_test,axis=1)\n",
        "pred = model.predict(new_x_test)\n",
        "pred = np.argmax(pred,axis=1)\n",
        "\n",
        "accuracy = metrics.accuracy_score(y_true, pred)\n",
        "print(\"Accuracy score: {}\".format(accuracy))\n",
        "\n",
        "recall = metrics.recall_score(y_true, pred, average= \"weighted\")\n",
        "print(\"Recall score: {}\".format(recall))\n",
        "\n",
        "precision = metrics.precision_score(y_true, pred, average= \"weighted\")\n",
        "print(\"Precision score: {}\".format(precision))\n",
        "\n",
        "f1 = metrics.f1_score(y_true, pred, average= \"weighted\")\n",
        "print(\"F1 score: {}\".format(f1))\n",
        "\n",
        "print(metrics.classification_report(y_true, pred))\n",
        "\n"
      ],
      "execution_count": 16,
      "outputs": [
        {
          "output_type": "stream",
          "text": [
            "Accuracy score: 0.6906\n",
            "Recall score: 0.6906\n",
            "Precision score: 0.6934477261513231\n",
            "F1 score: 0.6904870992906162\n",
            "              precision    recall  f1-score   support\n",
            "\n",
            "           0       0.74      0.76      0.75      1000\n",
            "           1       0.79      0.79      0.79      1000\n",
            "           2       0.55      0.67      0.60      1000\n",
            "           3       0.53      0.48      0.50      1000\n",
            "           4       0.65      0.62      0.64      1000\n",
            "           5       0.60      0.59      0.59      1000\n",
            "           6       0.70      0.73      0.71      1000\n",
            "           7       0.79      0.68      0.73      1000\n",
            "           8       0.77      0.83      0.80      1000\n",
            "           9       0.81      0.75      0.78      1000\n",
            "\n",
            "    accuracy                           0.69     10000\n",
            "   macro avg       0.69      0.69      0.69     10000\n",
            "weighted avg       0.69      0.69      0.69     10000\n",
            "\n"
          ],
          "name": "stdout"
        }
      ]
    },
    {
      "cell_type": "markdown",
      "metadata": {
        "id": "PkatwrTod_ii"
      },
      "source": [
        "### Write your code in the cell below to show 3-5 images in the test set as well as their true labels and their labels predicted by your model with transfer learning. \n",
        "\n",
        "### Include your findings in the project report."
      ]
    },
    {
      "cell_type": "code",
      "metadata": {
        "id": "PoRepUWbd_ii",
        "outputId": "64b843db-5f78-4fd2-96c0-314ed001d3b7",
        "colab": {
          "base_uri": "https://localhost:8080/",
          "height": 582
        }
      },
      "source": [
        "#These are the labels for the cifar10 dataset \n",
        "labels = ['airplane', 'automobile', 'bird', 'cat', 'deer', 'dog', 'frog', 'horse', 'ship', 'truck']\n",
        "\n",
        "plt.figure(figsize=(32, 32))\n",
        "\n",
        "for i in range(3):\n",
        "  #Display a random image from test set\n",
        "  j = np.random.randint(0, x_test.shape[0])\n",
        "\n",
        "  #it was giving errors so I needed to resize the image to 4 dimensional image\n",
        "  img = np.reshape(new_x_test[j], [1, 64, 64, 3])\n",
        "  \n",
        "  #based on code from https://github.com/uchidama/CIFAR10-Prediction-In-Keras/blob/master/keras_cifar10_prediction.ipynb\n",
        "  plt.subplot(1, 3, i+1)\n",
        "  plt.imshow(new_x_test[j])\n",
        "  plt.title(\"True Label: \"+(labels[np.argmax(y_test[j])]) + \"    Label Predicted by Model: \"+ (labels[np.argmax(model.predict(img))]))\n",
        "\n"
      ],
      "execution_count": 17,
      "outputs": [
        {
          "output_type": "display_data",
          "data": {
            "image/png": "[encoded data removed]",
            "text/plain": [
              "<Figure size 2304x2304 with 3 Axes>"
            ]
          },
          "metadata": {
            "tags": [],
            "needs_background": "light"
          }
        }
      ]
    }
  ]
}